{
 "cells": [
  {
   "cell_type": "markdown",
   "id": "fd593790cc4710f9",
   "metadata": {},
   "source": [
    "# Value at Risk (VaR) Assessment with Monte Carlo Simulations\n",
    "\n",
    "**NOTE: THIS IS A WIP**"
   ]
  },
  {
   "cell_type": "code",
   "execution_count": 1,
   "id": "e2b3d93fc8417d8a",
   "metadata": {
    "ExecuteTime": {
     "end_time": "2024-05-27T13:11:31.798679Z",
     "start_time": "2024-05-27T13:11:31.720260Z"
    }
   },
   "outputs": [],
   "source": [
    "import ipywidgets as widgets"
   ]
  },
  {
   "cell_type": "markdown",
   "id": "6441a61299d926f9",
   "metadata": {},
   "source": [
    "Helper function to get value from widgets"
   ]
  },
  {
   "cell_type": "code",
   "execution_count": 2,
   "id": "a51328f43bf4dfc0",
   "metadata": {
    "ExecuteTime": {
     "end_time": "2024-05-27T13:34:30.055154Z",
     "start_time": "2024-05-27T13:34:30.052927Z"
    }
   },
   "outputs": [],
   "source": [
    "def bind_input_to_output(sender):\n",
    "    output_text.value = input_text.value\n"
   ]
  },
  {
   "cell_type": "markdown",
   "id": "6192b5881dec43dc",
   "metadata": {},
   "source": [
    "# Set Up Ticker\n",
    "Ticker for selecting financial instruments"
   ]
  },
  {
   "cell_type": "code",
   "execution_count": 3,
   "id": "3a72343c0a274dda",
   "metadata": {
    "ExecuteTime": {
     "end_time": "2024-05-27T13:34:21.404585Z",
     "start_time": "2024-05-27T13:34:21.373952Z"
    }
   },
   "outputs": [
    {
     "data": {
      "application/vnd.jupyter.widget-view+json": {
       "model_id": "25519775dc3d465e928af34c0e44de2f",
       "version_major": 2,
       "version_minor": 0
      },
      "text/plain": [
       "SelectMultiple(description='Tickers', index=(1,), options=('USDJPY=X', 'USDAUD=X', 'USDEUR=X', 'AUDJPY=X'), va…"
      ]
     },
     "execution_count": 3,
     "metadata": {},
     "output_type": "execute_result"
    }
   ],
   "source": [
    "# tickers = ['USDJPY=X', 'USDAUD=X', 'USDEUR=X', 'AUDJPY=X']\n",
    "# tickers = widgets.SelectMultiple(\n",
    "#     options=['USDJPY=X', 'USDAUD=X', 'USDEUR=X', 'AUDJPY=X'],\n",
    "#     value=['USDAUD=X'],\n",
    "#     #rows=10,\n",
    "#     description='Tickers',\n",
    "#     disabled=False\n",
    "# )\n",
    "tickers"
   ]
  },
  {
   "cell_type": "markdown",
   "id": "7e640a6d10c78f1a",
   "metadata": {},
   "source": [
    "Or, enter tickers <br>\n",
    "Example:\n",
    "- FX: `AUDJPY=X`\n",
    "- Stock: `BOQ.AX`"
   ]
  },
  {
   "cell_type": "code",
   "execution_count": 28,
   "id": "48c8044e5f0171e7",
   "metadata": {
    "ExecuteTime": {
     "end_time": "2024-05-27T13:14:59.739308Z",
     "start_time": "2024-05-27T13:14:59.735032Z"
    }
   },
   "outputs": [
    {
     "data": {
      "application/vnd.jupyter.widget-view+json": {
       "model_id": "2e066d24408f406bb34bf66a2ac7b363",
       "version_major": 2,
       "version_minor": 0
      },
      "text/plain": [
       "Text(value='', description='Ticker', placeholder='Enter Ticker')"
      ]
     },
     "execution_count": 28,
     "metadata": {},
     "output_type": "execute_result"
    }
   ],
   "source": [
    "tickers = widgets.Text(\n",
    "    value='',\n",
    "    placeholder='Enter Ticker',\n",
    "    description='Ticker',\n",
    "    disabled=False\n",
    ")\n",
    "tickers"
   ]
  },
  {
   "cell_type": "markdown",
   "id": "4e185bf7f1d2b7cf",
   "metadata": {},
   "source": []
  },
  {
   "cell_type": "markdown",
   "id": "55cdf2fca1a7f02a",
   "metadata": {},
   "source": [
    "## Slider to Select the Historical Data Period\n",
    "Use the slider below to choose the number of years for which you want to retrieve historical stock data. The selected period will determine the range of data used in the analysis, starting from the current date and going back the specified number of years."
   ]
  },
  {
   "cell_type": "code",
   "execution_count": 5,
   "id": "initial_id",
   "metadata": {
    "ExecuteTime": {
     "end_time": "2024-05-27T13:32:49.047134Z",
     "start_time": "2024-05-27T13:32:49.041490Z"
    }
   },
   "outputs": [
    {
     "data": {
      "application/vnd.jupyter.widget-view+json": {
       "model_id": "f869574442e84d31a90bc3193b675b23",
       "version_major": 2,
       "version_minor": 0
      },
      "text/plain": [
       "IntSlider(value=7, continuous_update=False, description='Lookback Years:', max=20)"
      ]
     },
     "execution_count": 5,
     "metadata": {},
     "output_type": "execute_result"
    }
   ],
   "source": [
    "# lookback_years = 13\n",
    "lookback_years = widgets.IntSlider(\n",
    "    value=7,\n",
    "    min=0,\n",
    "    max=20,\n",
    "    step=1,\n",
    "    description='Lookback Years:',\n",
    "    disabled=False,\n",
    "    continuous_update=False,\n",
    "    orientation='horizontal',\n",
    "    readout=True,\n",
    "    readout_format='d'\n",
    ")\n",
    "lookback_years"
   ]
  },
  {
   "cell_type": "markdown",
   "id": "e21cb644-f2f0-4845-91c2-d66700b27b1d",
   "metadata": {},
   "source": [
    "# Get Variables From Widgets"
   ]
  },
  {
   "cell_type": "code",
   "execution_count": 30,
   "id": "a70114c9-655a-4402-a315-059bb1d23759",
   "metadata": {},
   "outputs": [],
   "source": [
    "# Enable this for ticker picker\n",
    "# tickers_list = list(tickers.value)\n",
    "# Enable this for ticker enter\n",
    "tickers_list = str(tickers.value).split(',')\n",
    "lookback_years_int = int(lookback_years.value)"
   ]
  },
  {
   "cell_type": "markdown",
   "id": "1eed7fad49f8623d",
   "metadata": {},
   "source": [
    "# Get Ticker Information From Yahoo Finance"
   ]
  },
  {
   "cell_type": "code",
   "execution_count": 32,
   "id": "a234ea45fad0d505",
   "metadata": {
    "ExecuteTime": {
     "end_time": "2024-05-27T13:31:40.700366Z",
     "start_time": "2024-05-27T13:31:40.685039Z"
    }
   },
   "outputs": [
    {
     "name": "stderr",
     "output_type": "stream",
     "text": [
      "[*********************100%%**********************]  1 of 1 completed"
     ]
    },
    {
     "name": "stderr",
     "output_type": "stream",
     "text": [
      "\n",
      "[*********************100%%**********************]  1 of 1 completed\n"
     ]
    },
    {
     "data": {
      "text/html": [
       "<div>\n",
       "<style scoped>\n",
       "    .dataframe tbody tr th:only-of-type {\n",
       "        vertical-align: middle;\n",
       "    }\n",
       "\n",
       "    .dataframe tbody tr th {\n",
       "        vertical-align: top;\n",
       "    }\n",
       "\n",
       "    .dataframe thead th {\n",
       "        text-align: right;\n",
       "    }\n",
       "</style>\n",
       "<table border=\"1\" class=\"dataframe\">\n",
       "  <thead>\n",
       "    <tr style=\"text-align: right;\">\n",
       "      <th></th>\n",
       "      <th>AUDJPY=X</th>\n",
       "      <th>BOQ.AX</th>\n",
       "    </tr>\n",
       "    <tr>\n",
       "      <th>Date</th>\n",
       "      <th></th>\n",
       "      <th></th>\n",
       "    </tr>\n",
       "  </thead>\n",
       "  <tbody>\n",
       "    <tr>\n",
       "      <th>2017-05-30</th>\n",
       "      <td>NaN</td>\n",
       "      <td>NaN</td>\n",
       "    </tr>\n",
       "    <tr>\n",
       "      <th>2017-05-31</th>\n",
       "      <td>-0.000714</td>\n",
       "      <td>0.006292</td>\n",
       "    </tr>\n",
       "    <tr>\n",
       "      <th>2017-06-01</th>\n",
       "      <td>-0.004463</td>\n",
       "      <td>-0.002692</td>\n",
       "    </tr>\n",
       "    <tr>\n",
       "      <th>2017-06-02</th>\n",
       "      <td>-0.000584</td>\n",
       "      <td>0.005376</td>\n",
       "    </tr>\n",
       "    <tr>\n",
       "      <th>2017-06-05</th>\n",
       "      <td>-0.002118</td>\n",
       "      <td>-0.017125</td>\n",
       "    </tr>\n",
       "    <tr>\n",
       "      <th>...</th>\n",
       "      <td>...</td>\n",
       "      <td>...</td>\n",
       "    </tr>\n",
       "    <tr>\n",
       "      <th>2024-05-21</th>\n",
       "      <td>-0.000335</td>\n",
       "      <td>0.013334</td>\n",
       "    </tr>\n",
       "    <tr>\n",
       "      <th>2024-05-22</th>\n",
       "      <td>-0.001516</td>\n",
       "      <td>-0.020068</td>\n",
       "    </tr>\n",
       "    <tr>\n",
       "      <th>2024-05-23</th>\n",
       "      <td>-0.004272</td>\n",
       "      <td>-0.011895</td>\n",
       "    </tr>\n",
       "    <tr>\n",
       "      <th>2024-05-24</th>\n",
       "      <td>-0.001013</td>\n",
       "      <td>-0.001711</td>\n",
       "    </tr>\n",
       "    <tr>\n",
       "      <th>2024-05-27</th>\n",
       "      <td>0.002756</td>\n",
       "      <td>0.003419</td>\n",
       "    </tr>\n",
       "  </tbody>\n",
       "</table>\n",
       "<p>1825 rows × 2 columns</p>\n",
       "</div>"
      ],
      "text/plain": [
       "            AUDJPY=X    BOQ.AX\n",
       "Date                          \n",
       "2017-05-30       NaN       NaN\n",
       "2017-05-31 -0.000714  0.006292\n",
       "2017-06-01 -0.004463 -0.002692\n",
       "2017-06-02 -0.000584  0.005376\n",
       "2017-06-05 -0.002118 -0.017125\n",
       "...              ...       ...\n",
       "2024-05-21 -0.000335  0.013334\n",
       "2024-05-22 -0.001516 -0.020068\n",
       "2024-05-23 -0.004272 -0.011895\n",
       "2024-05-24 -0.001013 -0.001711\n",
       "2024-05-27  0.002756  0.003419\n",
       "\n",
       "[1825 rows x 2 columns]"
      ]
     },
     "execution_count": 32,
     "metadata": {},
     "output_type": "execute_result"
    }
   ],
   "source": [
    "import numpy as np\n",
    "import yfinance as yf\n",
    "import pandas as pd\n",
    "from datetime import datetime, timedelta\n",
    "import time\n",
    "\n",
    "end = datetime.today().strftime('%Y-%m-%d')\n",
    "start = (datetime.today() - timedelta(days=lookback_years_int*365)).strftime('%Y-%m-%d')\n",
    "\n",
    "# Create an empty dictionary to store the data\n",
    "data = {}\n",
    "\n",
    "# Fetch historical data for each stock with a delay between requests\n",
    "for ticker in tickers_list:\n",
    "    data[ticker] = yf.download(ticker, start=start, end=end)\n",
    "    time.sleep(1)  # Add a 1-second delay between each request\n",
    "\n",
    "# Concatenate the data into a single DataFrame\n",
    "portfolio_data = pd.concat([data[ticker]['Close'] for ticker in data.keys()], axis=1, keys=data.keys())\n",
    "\n",
    "# Handle missing values by forward-filling\n",
    "portfolio_data.fillna(method='ffill', inplace=True)\n",
    "\n",
    "# Calculate daily log returns for each stock\n",
    "daily_returns = np.log(portfolio_data / portfolio_data.shift(1))\n",
    "daily_returns"
   ]
  },
  {
   "cell_type": "markdown",
   "id": "6920f25a9b98a355",
   "metadata": {},
   "source": [
    "## Calculating Equal Weights for Portfolio\n",
    "This code block calculates equal weights for each stock in the portfolio based on the number of stocks defined in the tickers list. The resulting weights dictionary assigns the same weight to each stock, ensuring that the sum of the weights equals 1."
   ]
  },
  {
   "cell_type": "code",
   "execution_count": 33,
   "id": "6a8bbcdf6a90c659",
   "metadata": {
    "ExecuteTime": {
     "end_time": "2024-05-27T12:55:24.910411Z",
     "start_time": "2024-05-27T12:55:24.907557Z"
    }
   },
   "outputs": [
    {
     "name": "stdout",
     "output_type": "stream",
     "text": [
      "{'AUDJPY=X': 0.5, ' BOQ.AX': 0.5}\n",
      "Sum of weights:  1.0\n"
     ]
    }
   ],
   "source": [
    "# Define the number of stocks in the portfolio\n",
    "num_stocks = len(tickers_list)\n",
    "\n",
    "# Calculate equal weights for each stock and store in a dictionary\n",
    "weights = {ticker: 1.0/num_stocks for ticker in tickers_list} \n",
    "\n",
    "# Print weights to verify that the sum equals 1\n",
    "print(weights)\n",
    "print(\"Sum of weights: \", sum(weights.values()))"
   ]
  },
  {
   "cell_type": "markdown",
   "id": "2d5da18ebc2068cc",
   "metadata": {},
   "source": [
    "## Calculating Annualized Returns and Expected Returns\n",
    "In this code block, we calculate the annualized returns and expected returns for each stock in the portfolio. We multiply the mean daily returns by 252 (assuming 252 trading days in a year) to obtain the annualized returns. For simplicity, we assume that the expected returns are equal to the annualized returns based on historical data.\n",
    "\n",
    "Next, we calculate the portfolio's annualized return and expected return by taking the weighted average of the individual stock returns using the weights dictionary.\n",
    "\n",
    "*It's important to note that using historical returns to estimate future returns has its limitations. Past performance does not guarantee future results, and market conditions can change over time. Therefore, investors should consider other factors, such as economic indicators and company fundamentals, when making investment decisions."
   ]
  },
  {
   "cell_type": "code",
   "execution_count": 34,
   "id": "c0a930dd2473eeac",
   "metadata": {
    "ExecuteTime": {
     "end_time": "2024-05-27T12:56:24.789506Z",
     "start_time": "2024-05-27T12:56:24.782627Z"
    }
   },
   "outputs": [
    {
     "name": "stdout",
     "output_type": "stream",
     "text": [
      "Annualized Returns:  AUDJPY=X    0.031535\n",
      " BOQ.AX    -0.084058\n",
      "dtype: float64\n",
      "Expected Returns:  AUDJPY=X    0.031535\n",
      " BOQ.AX    -0.084058\n",
      "dtype: float64\n",
      "Portfolio's Annualized Return:  -0.02626191242696181\n",
      "Portfolio's Expected Return:  -0.02626191242696181\n"
     ]
    }
   ],
   "source": [
    "# Calculate daily log returns for each stock\n",
    "daily_returns = np.log(portfolio_data / portfolio_data.shift(1))\n",
    "\n",
    "# Calculate the mean daily log return for each stock\n",
    "mean_daily_returns = daily_returns.mean()\n",
    "\n",
    "# Annualize the log returns\n",
    "annualized_returns = mean_daily_returns * 252\n",
    "\n",
    "# Consider the expected returns to be the same as annualized returns\n",
    "expected_returns = annualized_returns\n",
    "\n",
    "# Print the annualized and expected returns\n",
    "print(\"Annualized Returns: \", annualized_returns)\n",
    "print(\"Expected Returns: \", expected_returns)\n",
    "\n",
    "# Create a dataframe for the weights from the weights dictionary\n",
    "weights_df = pd.DataFrame(list(weights.values()), index=weights.keys(), columns=['weight'])\n",
    "\n",
    "# Calculate the portfolio's annualized return\n",
    "portfolio_annualized_return = weights_df['weight'].dot(annualized_returns)\n",
    "\n",
    "# Calculate the portfolio's expected return\n",
    "portfolio_expected_return = weights_df['weight'].dot(expected_returns)\n",
    "\n",
    "# Print portfolio's annualized and expected return\n",
    "print(\"Portfolio's Annualized Return: \", portfolio_annualized_return)\n",
    "print(\"Portfolio's Expected Return: \", portfolio_expected_return)"
   ]
  },
  {
   "cell_type": "markdown",
   "id": "920ea8f979cc3dd8",
   "metadata": {},
   "source": [
    "## Calculating Portfolio Standard Deviation\n",
    "In this code block, we calculate the annualized portfolio standard deviation using the covariance matrix, which captures the pairwise relationships between stock returns. By considering the covariances between stocks and the portfolio weights, we can assess the diversification benefits and potential risk reduction in the portfolio."
   ]
  },
  {
   "cell_type": "code",
   "execution_count": 35,
   "id": "39faa6295a05722b",
   "metadata": {
    "ExecuteTime": {
     "end_time": "2024-05-27T12:56:48.153575Z",
     "start_time": "2024-05-27T12:56:48.147362Z"
    }
   },
   "outputs": [
    {
     "name": "stdout",
     "output_type": "stream",
     "text": [
      "Annualized Covariance Matrix: \n",
      "           AUDJPY=X    BOQ.AX\n",
      "AUDJPY=X  0.011429  0.003920\n",
      " BOQ.AX   0.003920  0.067708\n",
      "Portfolio's Annualized Standard Deviation:  0.14745925414286323\n"
     ]
    }
   ],
   "source": [
    "# Import additional necessary libraries\n",
    "import numpy as np\n",
    "\n",
    "# Calculate the covariance matrix of daily returns\n",
    "cov_matrix = daily_returns.cov()\n",
    "\n",
    "# Annualize the covariance matrix\n",
    "annualized_cov_matrix = cov_matrix * 252\n",
    "\n",
    "# Print the annualized covariance matrix\n",
    "print(\"Annualized Covariance Matrix: \\n\", annualized_cov_matrix)\n",
    "\n",
    "# Calculate the portfolio standard deviation\n",
    "portfolio_std_dev = np.sqrt(np.dot(weights_df['weight'].T, np.dot(annualized_cov_matrix, weights_df['weight'])))\n",
    "\n",
    "# Print the portfolio standard deviation\n",
    "print(\"Portfolio's Annualized Standard Deviation: \", portfolio_std_dev)"
   ]
  },
  {
   "cell_type": "markdown",
   "id": "ecf36ca65ae49c65",
   "metadata": {},
   "source": [
    "## Select the Number of Simulations\n",
    "Keep in mind that a higher number of simulations may provide more accurate results, as it generates a larger sample size of potential outcomes. However, increasing the number of simulations also requires more computing power and time to complete the analysis."
   ]
  },
  {
   "cell_type": "code",
   "execution_count": 36,
   "id": "56d63ddaef9eeb07",
   "metadata": {
    "ExecuteTime": {
     "end_time": "2024-05-27T12:57:09.821885Z",
     "start_time": "2024-05-27T12:57:09.819669Z"
    }
   },
   "outputs": [],
   "source": [
    "# TODO: Change this to widget\n",
    "number_of_simulations = \"10000\""
   ]
  },
  {
   "cell_type": "markdown",
   "id": "95f0418b842a6ae7",
   "metadata": {},
   "source": [
    "## Select the Value at Risk (VaR) Confidence Level\n",
    "The VaR confidence level represents the percentage of time the actual loss on the investment will not exceed the calculated VaR. A higher VaR confidence level generally indicates a higher potential loss that the portfolio might incur but is less likely to exceed. Adjusting this slider allows you to explore how changes in risk appetite affect the potential losses over the specified time period. Keep in mind that this does not increase the computational burden significantly."
   ]
  },
  {
   "cell_type": "code",
   "execution_count": 37,
   "id": "11edffc46c4b3e65",
   "metadata": {
    "ExecuteTime": {
     "end_time": "2024-05-27T12:57:41.607702Z",
     "start_time": "2024-05-27T12:57:41.605502Z"
    }
   },
   "outputs": [],
   "source": [
    "# TODO: Change this to widget\n",
    "VaR_confidence_level = 0.9"
   ]
  },
  {
   "cell_type": "markdown",
   "id": "1428ca97cf13b51f",
   "metadata": {},
   "source": [
    "## Select the Time Period for Value at Risk (VaR) Calculation\n",
    "Use the dropdown menu below to choose the time period for the VaR calculation, specified in days.  The available options are:\n",
    "\n",
    "- **1 Day (One-Day VaR)**: Best for daily trading and risk management, providing immediate risk exposure details. Ideal for portfolios requiring quick decision-making based on daily market fluctuations.\n",
    "- **10 Days (Two-Week VaR)**: Commonly used for regulatory compliance and moderate-term position risk assessment. This period helps institutions meet various regulatory requirements that specify a 10-day risk assessment model.\n",
    "- **21 Days (One-Month VaR)**: Suitable for monthly performance evaluation and risk profiling for portfolio managers. This period provides a comprehensive view of the monthly risk landscape, accommodating more complete cycles of market activity.\n",
    "- **252 Days (One-Year VaR)**: Ideal for long-term financial planning and strategic risk assessment in stable portfolios. This period is perfect for assessing annual risk in relation to broader economic cycles and long-term investment strategies.\n",
    "\n",
    "**Note that these represent trading days, not calendar days.**"
   ]
  },
  {
   "cell_type": "code",
   "execution_count": 38,
   "id": "9bf9a22a27ed4674",
   "metadata": {
    "ExecuteTime": {
     "end_time": "2024-05-27T13:00:12.016370Z",
     "start_time": "2024-05-27T13:00:12.013766Z"
    }
   },
   "outputs": [],
   "source": [
    "# TODO: Change this to widget\n",
    "time_period = \"10\""
   ]
  },
  {
   "cell_type": "markdown",
   "id": "eb123ca45b550f34",
   "metadata": {},
   "source": [
    "## Set the Initial Portfolio Value\n",
    "Use the input box below to specify the initial monetary value of your portfolio. This value represents the total amount of capital invested across all assets in your portfolio at the outset. Setting the initial portfolio value allows you to simulate and assess the impact of various investment levels on the portfolio's performance and risk metrics, including the Value at Risk (VaR). \n",
    "\n",
    "Choose an initial value that reflects your typical investment size to get the most realistic and relevant risk assessments. Keep in mind that a higher initial investment may expose you to greater absolute dollar risk, although the relative performance metrics may remain consistent."
   ]
  },
  {
   "cell_type": "code",
   "execution_count": 39,
   "id": "2b2ea86181a8c439",
   "metadata": {
    "ExecuteTime": {
     "end_time": "2024-05-27T13:00:37.623519Z",
     "start_time": "2024-05-27T13:00:37.620890Z"
    }
   },
   "outputs": [],
   "source": [
    "# TODO: Change this to widget\n",
    "initial_investment = \"100000\""
   ]
  },
  {
   "cell_type": "markdown",
   "id": "6835fa55a14e69d3",
   "metadata": {},
   "source": [
    "## Casting User-Selected Variables as Numbers\n",
    "To ensure that the user-selected variables are of the correct data type for further calculations, we need to cast them as numbers. In this code block, we perform the necessary type conversions:"
   ]
  },
  {
   "cell_type": "code",
   "execution_count": 40,
   "id": "9b96a0ccadbcebc4",
   "metadata": {
    "ExecuteTime": {
     "end_time": "2024-05-27T13:00:50.957198Z",
     "start_time": "2024-05-27T13:00:50.953540Z"
    }
   },
   "outputs": [],
   "source": [
    "number_of_simulations = int(number_of_simulations)\n",
    "VaR_confidence_level = float(VaR_confidence_level)\n",
    "time_period = int(time_period)\n",
    "initial_investment= int(initial_investment)"
   ]
  },
  {
   "cell_type": "markdown",
   "id": "cbf2e9202460cc93",
   "metadata": {},
   "source": [
    "## Monte Carlo Simulation Function\n",
    "The Monte Carlo simulation function takes the portfolio's expected return, standard deviation, number of simulations, and number of trading days as input parameters. It generates random returns based on a normal distribution, calculates the cumulative returns for each simulation, and returns the simulated return paths."
   ]
  },
  {
   "cell_type": "code",
   "execution_count": 41,
   "id": "6c58b65b72fb95f9",
   "metadata": {
    "ExecuteTime": {
     "end_time": "2024-05-27T13:01:02.548287Z",
     "start_time": "2024-05-27T13:01:02.545459Z"
    }
   },
   "outputs": [],
   "source": [
    "# Define the Monte Carlo simulation function\n",
    "def monte_carlo_simulation(expected_return, std_dev, num_simulations, num_trading_days):\n",
    "\n",
    "    # Generate random samples from a normal distribution for return deviations\n",
    "    rand_returns = np.random.normal(0, 1, (num_simulations, num_trading_days))\n",
    "\n",
    "    # Calculate simulated returns by adjusting expected returns and adding scaled random deviations\n",
    "    period_returns = (1 + expected_return) ** (num_trading_days / 252) - 1 + std_dev * rand_returns * np.sqrt(num_trading_days / 252)\n",
    "\n",
    "    # Return the array of simulated returns for each trading day and simulation\n",
    "    return period_returns"
   ]
  },
  {
   "cell_type": "markdown",
   "id": "610add1e244bdf80",
   "metadata": {},
   "source": [
    "## Running Monte Carlo Simulations\n",
    "In this code block, we run the Monte Carlo simulation with the chosen number of simulations and 252 trading days (assuming one year of trading). The simulated returns are stored in the simulated_returns variable, which will be used to calculate the Value at Risk (VaR) in the next section."
   ]
  },
  {
   "cell_type": "code",
   "execution_count": 42,
   "id": "c54529bd78116ded",
   "metadata": {
    "ExecuteTime": {
     "end_time": "2024-05-27T13:01:12.718026Z",
     "start_time": "2024-05-27T13:01:12.708782Z"
    }
   },
   "outputs": [],
   "source": [
    "# Run the Monte Carlo simulation\n",
    "simulated_period_returns = monte_carlo_simulation(portfolio_expected_return, portfolio_std_dev, number_of_simulations, time_period)"
   ]
  },
  {
   "cell_type": "markdown",
   "id": "17c6eea0b63a634b",
   "metadata": {},
   "source": [
    "## Calculating Value at Risk (VaR)\n",
    "In this code block, we calculate the Value at Risk (VaR) at the selected confidence level using the np.percentile function from the NumPy library. We determine the corresponding percentile of the simulated portfolio returns on the last trading day, which represents the worst-case scenario at the given confidence level."
   ]
  },
  {
   "cell_type": "code",
   "execution_count": 43,
   "id": "8f7d5ca75c7231ce",
   "metadata": {
    "ExecuteTime": {
     "end_time": "2024-05-27T13:01:25.615143Z",
     "start_time": "2024-05-27T13:01:25.606808Z"
    }
   },
   "outputs": [
    {
     "name": "stdout",
     "output_type": "stream",
     "text": [
      "Value at Risk (VaR) at 90.0% confidence level is: $ -3860.787783225838\n"
     ]
    }
   ],
   "source": [
    "# Calculate the portfolio values at the end of the period\n",
    "portfolio_values_end_period = initial_investment * (1 + simulated_period_returns)\n",
    "\n",
    "# VaR Confidence Level declaration\n",
    "percentile_level = 100 - (VaR_confidence_level*100)\n",
    "\n",
    "# Calculate VaR at the specified confidence level\n",
    "VaR = np.percentile(portfolio_values_end_period, percentile_level) - initial_investment\n",
    "\n",
    "print(f\"Value at Risk (VaR) at {VaR_confidence_level*100}% confidence level is: $\", VaR)"
   ]
  },
  {
   "cell_type": "code",
   "execution_count": 44,
   "id": "d0c2482c612b4403",
   "metadata": {
    "ExecuteTime": {
     "end_time": "2024-05-27T13:01:31.103907Z",
     "start_time": "2024-05-27T13:01:31.101505Z"
    }
   },
   "outputs": [],
   "source": [
    "VaR_display = np.round(VaR,0)"
   ]
  },
  {
   "cell_type": "markdown",
   "id": "c2b9339dabccbd75",
   "metadata": {},
   "source": [
    "## Visualizing Value at Risk (VaR) on a Distribution Plot\n",
    "In this code block, we use the pyplot library to create a distribution plot of the simulated returns on the last trading day. The plot helps visualize the range and probability of different return outcomes. By adding a vertical line at the position of the VaR, calculated using the selected percentile of the simulated returns, we can clearly see the portion of the distribution that falls below the VaR threshold, representing the potential downside risk at the chosen confidence level."
   ]
  },
  {
   "cell_type": "code",
   "execution_count": 45,
   "id": "5f6dfcd275eaa6f9",
   "metadata": {
    "ExecuteTime": {
     "end_time": "2024-05-27T13:01:44.881957Z",
     "start_time": "2024-05-27T13:01:44.308246Z"
    }
   },
   "outputs": [
    {
     "data": {
      "image/png": "[encoded data removed]",
      "text/plain": [
       "<Figure size 1000x600 with 1 Axes>"
      ]
     },
     "metadata": {},
     "output_type": "display_data"
    }
   ],
   "source": [
    "import matplotlib.pyplot as plt\n",
    "import numpy as np\n",
    "\n",
    "# Calculate the period dollar returns at the end of the 10-day period for each simulation\n",
    "period_dollar_returns = portfolio_values_end_period[:, -1] - initial_investment\n",
    "\n",
    "# Create the histogram plot using Matplotlib with blue bars and white outlines\n",
    "plt.figure(figsize=(10, 6))\n",
    "plt.hist(period_dollar_returns, bins=50, color='blue', edgecolor='white', alpha=0.75)\n",
    "\n",
    "# Add the VaR line\n",
    "plt.axvline(x=VaR, color='red', linestyle='--', linewidth=1.5,\n",
    "            label=f'VaR at {VaR_confidence_level*100}% Confidence ({percentile_level}th Percentile): ${VaR:.2f}')\n",
    "\n",
    "# Set the plot title and labels\n",
    "plt.title(f'Distribution of Simulated Returns over {time_period} Days')\n",
    "plt.xlabel('Portfolio Gains/Losses ($)')\n",
    "plt.ylabel('Frequency')\n",
    "\n",
    "# Add a legend\n",
    "plt.legend()\n",
    "\n",
    "# Add grid lines\n",
    "plt.grid(True)\n",
    "\n",
    "# Show the plot\n",
    "plt.show()"
   ]
  },
  {
   "cell_type": "code",
   "execution_count": null,
   "id": "52e7eb74f9a4762f",
   "metadata": {},
   "outputs": [],
   "source": []
  }
 ],
 "metadata": {
  "kernelspec": {
   "display_name": "Python 3 (ipykernel)",
   "language": "python",
   "name": "python3"
  },
  "language_info": {
   "codemirror_mode": {
    "name": "ipython",
    "version": 3
   },
   "file_extension": ".py",
   "mimetype": "text/x-python",
   "name": "python",
   "nbconvert_exporter": "python",
   "pygments_lexer": "ipython3",
   "version": "3.8.19"
  }
 },
 "nbformat": 4,
 "nbformat_minor": 5
}
